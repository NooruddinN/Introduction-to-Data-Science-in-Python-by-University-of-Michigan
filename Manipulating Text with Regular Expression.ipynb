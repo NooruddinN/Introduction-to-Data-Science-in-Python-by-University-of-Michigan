{
 "cells": [
  {
   "cell_type": "code",
   "execution_count": 1,
   "id": "faf32e7f",
   "metadata": {},
   "outputs": [],
   "source": [
    "import re"
   ]
  },
  {
   "cell_type": "code",
   "execution_count": 4,
   "id": "f9e4be3d",
   "metadata": {},
   "outputs": [
    {
     "name": "stdout",
     "output_type": "stream",
     "text": [
      "Wonderful\n"
     ]
    }
   ],
   "source": [
    "txt=\"This a good day\"\n",
    "if re.search(\"good\",txt):\n",
    "    print(\"Wonderful\")\n",
    "else:\n",
    "    print(\"Not\")"
   ]
  },
  {
   "cell_type": "code",
   "execution_count": 5,
   "id": "c10ec5a2",
   "metadata": {},
   "outputs": [
    {
     "data": {
      "text/plain": [
       "['', ' is the best and ', ' is a good quality city']"
      ]
     },
     "execution_count": 5,
     "metadata": {},
     "output_type": "execute_result"
    }
   ],
   "source": [
    "txt1=\"Sukkur is the best and Sukkur is a good quality city\"\n",
    "re.split(\"Sukkur\", txt1)"
   ]
  },
  {
   "cell_type": "code",
   "execution_count": 7,
   "id": "5fb77cc9",
   "metadata": {},
   "outputs": [
    {
     "data": {
      "text/plain": [
       "['Sukkur', 'Sukkur']"
      ]
     },
     "execution_count": 7,
     "metadata": {},
     "output_type": "execute_result"
    }
   ],
   "source": [
    "re.findall(\"Sukkur\", txt1)"
   ]
  },
  {
   "cell_type": "code",
   "execution_count": 14,
   "id": "be7d00bb",
   "metadata": {},
   "outputs": [
    {
     "name": "stdout",
     "output_type": "stream",
     "text": [
      "['bat', 'bot']\n"
     ]
    }
   ],
   "source": [
    "import re\n",
    "import numpy as np\n",
    "string = 'bat, lat, mat, bet, let, met, bit, lit, mit, bot, lot, mot'\n",
    "result = re.findall('b[ao]t', string)\n",
    "print(result)"
   ]
  },
  {
   "cell_type": "code",
   "execution_count": 15,
   "id": "3838e186",
   "metadata": {},
   "outputs": [],
   "source": [
    "def l2_dist(a, b):\n",
    "    result = ((a - b) * (a - b)).sum()\n",
    "    result = result ** 0.5\n",
    "    return result "
   ]
  },
  {
   "cell_type": "code",
   "execution_count": 17,
   "id": "3b1371ff",
   "metadata": {},
   "outputs": [],
   "source": [
    "a1 = np.random.rand(4)\n",
    "a2 = np.random.rand(4, 1)\n",
    "a3 = np.array([[1, 2, 3, 4]])\n",
    "a4 = np.arange(1, 4, 1)\n",
    "a5 = np.linspace(1 ,4, 4)"
   ]
  },
  {
   "cell_type": "code",
   "execution_count": 18,
   "id": "e1d80a82",
   "metadata": {},
   "outputs": [
    {
     "data": {
      "text/plain": [
       "(4,)"
      ]
     },
     "execution_count": 18,
     "metadata": {},
     "output_type": "execute_result"
    }
   ],
   "source": [
    "a1.shape"
   ]
  },
  {
   "cell_type": "code",
   "execution_count": 19,
   "id": "b1bd62fb",
   "metadata": {},
   "outputs": [
    {
     "data": {
      "text/plain": [
       "(4, 1)"
      ]
     },
     "execution_count": 19,
     "metadata": {},
     "output_type": "execute_result"
    }
   ],
   "source": [
    "a2.shape"
   ]
  },
  {
   "cell_type": "code",
   "execution_count": 20,
   "id": "bf184d66",
   "metadata": {},
   "outputs": [
    {
     "data": {
      "text/plain": [
       "(1, 4)"
      ]
     },
     "execution_count": 20,
     "metadata": {},
     "output_type": "execute_result"
    }
   ],
   "source": [
    "a3.shape"
   ]
  },
  {
   "cell_type": "code",
   "execution_count": 21,
   "id": "314b8fd2",
   "metadata": {},
   "outputs": [
    {
     "data": {
      "text/plain": [
       "(3,)"
      ]
     },
     "execution_count": 21,
     "metadata": {},
     "output_type": "execute_result"
    }
   ],
   "source": [
    "a4.shape"
   ]
  },
  {
   "cell_type": "code",
   "execution_count": 22,
   "id": "fe461904",
   "metadata": {},
   "outputs": [
    {
     "data": {
      "text/plain": [
       "(4,)"
      ]
     },
     "execution_count": 22,
     "metadata": {},
     "output_type": "execute_result"
    }
   ],
   "source": [
    "a5.shape"
   ]
  },
  {
   "cell_type": "code",
   "execution_count": 23,
   "id": "d31cc891",
   "metadata": {},
   "outputs": [
    {
     "name": "stdout",
     "output_type": "stream",
     "text": [
      "[[0 0 1]\n",
      " [1 1 1]]\n"
     ]
    }
   ],
   "source": [
    "import numpy as np\n",
    "\n",
    "old = np.array([[1, 1, 1], [1, 1, 1]])\n",
    "new = old\n",
    "new[0, :2] = 0\n",
    "\n",
    "print(old)"
   ]
  },
  {
   "cell_type": "code",
   "execution_count": 24,
   "id": "ca1c5699",
   "metadata": {},
   "outputs": [],
   "source": [
    "import re \n",
    "s = 'ACBCAC'"
   ]
  },
  {
   "cell_type": "code",
   "execution_count": 25,
   "id": "fd0b28f8",
   "metadata": {},
   "outputs": [
    {
     "data": {
      "text/plain": [
       "['AC', 'AC']"
      ]
     },
     "execution_count": 25,
     "metadata": {},
     "output_type": "execute_result"
    }
   ],
   "source": [
    "re.findall('AC', s)"
   ]
  },
  {
   "cell_type": "code",
   "execution_count": 26,
   "id": "4763f914",
   "metadata": {},
   "outputs": [
    {
     "data": {
      "text/plain": [
       "['A']"
      ]
     },
     "execution_count": 26,
     "metadata": {},
     "output_type": "execute_result"
    }
   ],
   "source": [
    "re.findall('^[AC]', s)"
   ]
  },
  {
   "cell_type": "code",
   "execution_count": 27,
   "id": "796c6b27",
   "metadata": {},
   "outputs": [
    {
     "data": {
      "text/plain": [
       "['AC']"
      ]
     },
     "execution_count": 27,
     "metadata": {},
     "output_type": "execute_result"
    }
   ],
   "source": [
    "re.findall('^AC', s)"
   ]
  },
  {
   "cell_type": "code",
   "execution_count": 28,
   "id": "32f4f882",
   "metadata": {},
   "outputs": [],
   "source": [
    "import re\n",
    "s = 'ACAABAACAAAB'\n",
    "result = re.findall('A{1,2}', s)\n",
    "L = len(result)"
   ]
  },
  {
   "cell_type": "code",
   "execution_count": 29,
   "id": "643ca6fe",
   "metadata": {},
   "outputs": [
    {
     "name": "stdout",
     "output_type": "stream",
     "text": [
      "5\n"
     ]
    }
   ],
   "source": [
    "print(L)"
   ]
  },
  {
   "cell_type": "code",
   "execution_count": 30,
   "id": "013a7e97",
   "metadata": {},
   "outputs": [
    {
     "ename": "NameError",
     "evalue": "name 'X' is not defined",
     "output_type": "error",
     "traceback": [
      "\u001b[1;31m---------------------------------------------------------------------------\u001b[0m",
      "\u001b[1;31mNameError\u001b[0m                                 Traceback (most recent call last)",
      "\u001b[1;32m<ipython-input-30-b3cb30adc833>\u001b[0m in \u001b[0;36m<module>\u001b[1;34m\u001b[0m\n\u001b[0;32m      6\u001b[0m \u001b[1;33m\u001b[0m\u001b[0m\n\u001b[0;32m      7\u001b[0m \u001b[1;32mimport\u001b[0m \u001b[0mre\u001b[0m\u001b[1;33m\u001b[0m\u001b[1;33m\u001b[0m\u001b[0m\n\u001b[1;32m----> 8\u001b[1;33m \u001b[0mpattern\u001b[0m \u001b[1;33m=\u001b[0m \u001b[0mX\u001b[0m\u001b[1;33m\u001b[0m\u001b[1;33m\u001b[0m\u001b[0m\n\u001b[0m\u001b[0;32m      9\u001b[0m \u001b[0mprint\u001b[0m\u001b[1;33m(\u001b[0m\u001b[0mlen\u001b[0m\u001b[1;33m(\u001b[0m\u001b[0mre\u001b[0m\u001b[1;33m.\u001b[0m\u001b[0mfindall\u001b[0m\u001b[1;33m(\u001b[0m\u001b[0mpattern\u001b[0m\u001b[1;33m,\u001b[0m\u001b[0mtext\u001b[0m\u001b[1;33m)\u001b[0m\u001b[1;33m)\u001b[0m\u001b[1;33m)\u001b[0m\u001b[1;33m\u001b[0m\u001b[1;33m\u001b[0m\u001b[0m\n",
      "\u001b[1;31mNameError\u001b[0m: name 'X' is not defined"
     ]
    }
   ],
   "source": [
    "text=r'''Everyone has the following fundamental freedoms:\n",
    "    (a) freedom of conscience and religion;\n",
    "    (b) freedom of thought, belief, opinion and expression, including freedom of the press and other media of communication;\n",
    "    (c) freedom of peaceful assembly; and\n",
    "    (d) freedom of association.'''\n",
    "\n",
    "import re\n",
    "pattern = X\n",
    "print(len(re.findall(pattern,text)))"
   ]
  },
  {
   "cell_type": "code",
   "execution_count": null,
   "id": "37c43601",
   "metadata": {},
   "outputs": [],
   "source": []
  }
 ],
 "metadata": {
  "kernelspec": {
   "display_name": "Python 3",
   "language": "python",
   "name": "python3"
  },
  "language_info": {
   "codemirror_mode": {
    "name": "ipython",
    "version": 3
   },
   "file_extension": ".py",
   "mimetype": "text/x-python",
   "name": "python",
   "nbconvert_exporter": "python",
   "pygments_lexer": "ipython3",
   "version": "3.8.8"
  }
 },
 "nbformat": 4,
 "nbformat_minor": 5
}
